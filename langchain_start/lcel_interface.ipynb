{
 "cells": [
  {
   "cell_type": "code",
   "execution_count": 1,
   "metadata": {},
   "outputs": [
    {
     "data": {
      "text/plain": [
       "True"
      ]
     },
     "execution_count": 1,
     "metadata": {},
     "output_type": "execute_result"
    }
   ],
   "source": [
    "# API KEY를 환경변수로 관리하기 위한 설정 파일\n",
    "from dotenv import load_dotenv\n",
    "\n",
    "# API KEY 정보로드\n",
    "load_dotenv()"
   ]
  },
  {
   "cell_type": "code",
   "execution_count": 2,
   "metadata": {},
   "outputs": [
    {
     "name": "stdout",
     "output_type": "stream",
     "text": [
      "LangSmith 추적을 시작합니다.\n",
      "[프로젝트명]\n",
      "LCEL-Interface\n"
     ]
    }
   ],
   "source": [
    "# LangSmith 추적을 설정합니다. https://smith.langchain.com\n",
    "from langchain_teddynote import logging\n",
    "\n",
    "# 프로젝트 이름을 입력합니다.\n",
    "logging.langsmith(\"LCEL-Interface\")"
   ]
  },
  {
   "cell_type": "code",
   "execution_count": 4,
   "metadata": {},
   "outputs": [],
   "source": [
    "from langchain_openai import ChatOpenAI\n",
    "from langchain_core.prompts import PromptTemplate\n",
    "from langchain_core.output_parsers import StrOutputParser\n",
    "\n",
    "# ChatOpenAI 모델을 인스턴스화합니다.\n",
    "model = ChatOpenAI(model_name=\"gpt-4o-mini\")\n",
    "# 주어진 토픽에 대한 농담을 요청하는 프롬프트 템플릿을 생성합니다.\n",
    "prompt = PromptTemplate.from_template(\"{topic} 에 대하여 3문장으로 설명해줘.\")\n",
    "# 프롬프트와 모델을 연결하여 대화 체인을 생성합니다.\n",
    "chain = prompt | model | StrOutputParser()"
   ]
  },
  {
   "cell_type": "code",
   "execution_count": 5,
   "metadata": {},
   "outputs": [
    {
     "name": "stdout",
     "output_type": "stream",
     "text": [
      "멀티모달(Multimodal)은 다양한 종류의 데이터를 통합하여 처리하는 기술을 의미합니다. 예를 들어, 텍스트, 이미지, 오디오 등 서로 다른 형태의 정보를 함께 분석하여 더 풍부한 이해를 도모합니다. 이러한 접근법은 인공지능, 자연어 처리 및 컴퓨터 비전 분야에서 특히 중요하며, 사용자 경험을 향상시키는 데 기여합니다."
     ]
    }
   ],
   "source": [
    "# chain.stream 메서드를 사용하여 '멀티모달' 토픽에 대한 스트림을 생성하고 반복합니다.\n",
    "for token in chain.stream({\"topic\": \"멀티모달\"}):\n",
    "    # 스트림에서 받은 데이터의 내용을 출력합니다. 줄바꿈 없이 이어서 출력하고, 버퍼를 즉시 비웁니다.\n",
    "    print(token, end=\"\", flush=True)\n"
   ]
  },
  {
   "cell_type": "code",
   "execution_count": 6,
   "metadata": {},
   "outputs": [
    {
     "data": {
      "text/plain": [
       "'ChatGPT는 OpenAI가 개발한 대화형 인공지능 모델로, 자연어 처리를 기반으로 사용자와 대화를 나눌 수 있습니다. 이 모델은 다양한 주제에 대해 정보를 제공하고 질문에 답변하며, 창의적인 글쓰기와 문제 해결을 도와줍니다. 사용자의 입력에 따라 적절한 반응을 생성하여 상호작용을 가능하게 합니다.'"
      ]
     },
     "execution_count": 6,
     "metadata": {},
     "output_type": "execute_result"
    }
   ],
   "source": [
    "# chain 객체의 invoke 메서드를 호출하고, 'ChatGPT'라는 주제로 딕셔너리를 전달합니다.\n",
    "chain.invoke({\"topic\": \"ChatGPT\"})\n"
   ]
  },
  {
   "cell_type": "code",
   "execution_count": 7,
   "metadata": {},
   "outputs": [
    {
     "data": {
      "text/plain": [
       "['ChatGPT는 OpenAI에서 개발한 자연어 처리 모델로, 사용자의 질문이나 요청에 대해 자연스러운 대화를 생성할 수 있습니다. 이 모델은 방대한 텍스트 데이터를 학습하여 다양한 주제에 대해 정보를 제공하고, 창의적인 글쓰기, 문제 해결 등의 작업을 수행할 수 있습니다. ChatGPT는 인간과 유사한 방식으로 소통할 수 있어, 다양한 분야에서 활용되고 있습니다.',\n",
       " '인스타그램은 사진 및 동영상을 공유할 수 있는 소셜 미디어 플랫폼입니다. 사용자들은 자신의 일상, 여행, 취미 등을 시각적으로 표현하고 다른 사람들과 소통할 수 있습니다. 또한, 해시태그와 스토리 기능을 통해 더 많은 사람들과 콘텐츠를 쉽게 연결할 수 있습니다.']"
      ]
     },
     "execution_count": 7,
     "metadata": {},
     "output_type": "execute_result"
    }
   ],
   "source": [
    "# 주어진 토픽 리스트를 batch 처리하는 함수 호출\n",
    "chain.batch([{\"topic\": \"ChatGPT\"}, {\"topic\": \"Instagram\"}])\n"
   ]
  },
  {
   "cell_type": "code",
   "execution_count": 8,
   "metadata": {},
   "outputs": [
    {
     "name": "stdout",
     "output_type": "stream",
     "text": [
      "YouTube는 사용자들이 동영상을 업로드, 공유 및 시청할 수 있는 세계 최대의 비디오 플랫폼입니다. 다양한 콘텐츠가 제공되며, 개인 유튜버부터 대형 미디어 회사까지 다양한 제작자들이 활동하고 있습니다. 사용자들은 구독, 댓글, 좋아요 기능을 통해 소통하고, 알고리즘에 의해 맞춤형 추천 콘텐츠를 받을 수 있습니다."
     ]
    }
   ],
   "source": [
    "# 비동기 스트림을 사용하여 'YouTube' 토픽의 메시지를 처리합니다.\n",
    "async for token in chain.astream({\"topic\": \"YouTube\"}):\n",
    "    # 메시지 내용을 출력합니다. 줄바꿈 없이 바로 출력하고 버퍼를 비웁니다.\n",
    "    print(token, end=\"\", flush=True)"
   ]
  },
  {
   "cell_type": "code",
   "execution_count": 9,
   "metadata": {},
   "outputs": [],
   "source": [
    "# 비동기 체인 객체의 'ainvoke' 메서드를 호출하여 'NVDA' 토픽을 처리합니다.\n",
    "my_process = chain.ainvoke({\"topic\": \"NVDA\"})\n"
   ]
  },
  {
   "cell_type": "code",
   "execution_count": 10,
   "metadata": {},
   "outputs": [
    {
     "data": {
      "text/plain": [
       "'NVIDIA (NVDA)는 그래픽 처리 장치(GPU)와 인공지능(AI) 기술 분야에서 선두 주자로 알려진 미국의 기술 회사입니다. 이 회사는 게임, 데이터 센터, 자율주행차 및 AI 연구 등 다양한 분야에 걸쳐 고성능 컴퓨팅 솔루션을 제공합니다. 최근 몇 년 동안 AI와 머신러닝의 발전으로 인해 NVIDIA의 제품에 대한 수요가 급증하며, 회사의 성장과 시장 점유율 확대에 기여하고 있습니다.'"
      ]
     },
     "execution_count": 10,
     "metadata": {},
     "output_type": "execute_result"
    }
   ],
   "source": [
    "# 비동기로 처리되는 프로세스가 완료될 때까지 기다립니다.\n",
    "await my_process\n"
   ]
  },
  {
   "cell_type": "code",
   "execution_count": null,
   "metadata": {},
   "outputs": [],
   "source": []
  }
 ],
 "metadata": {
  "kernelspec": {
   "display_name": "venv",
   "language": "python",
   "name": "python3"
  },
  "language_info": {
   "codemirror_mode": {
    "name": "ipython",
    "version": 3
   },
   "file_extension": ".py",
   "mimetype": "text/x-python",
   "name": "python",
   "nbconvert_exporter": "python",
   "pygments_lexer": "ipython3",
   "version": "3.11.0"
  }
 },
 "nbformat": 4,
 "nbformat_minor": 2
}
